{
  "nbformat": 4,
  "nbformat_minor": 0,
  "metadata": {
    "colab": {
      "provenance": []
    },
    "kernelspec": {
      "name": "python3",
      "display_name": "Python 3"
    },
    "language_info": {
      "name": "python"
    }
  },
  "cells": [
    {
      "cell_type": "code",
      "source": [
        "!pip install transformers\n"
      ],
      "metadata": {
        "id": "ulpwgYS3xaLC"
      },
      "execution_count": null,
      "outputs": []
    },
    {
      "cell_type": "code",
      "source": [
        "!pip install sentencepiece"
      ],
      "metadata": {
        "id": "PVwkYBahyh5O"
      },
      "execution_count": null,
      "outputs": []
    },
    {
      "cell_type": "code",
      "source": [
        "from transformers import pipeline     # Transformers pipeline\n",
        "\n",
        "translation_pipeline =  pipeline(\"translation\", model=\"Helsinki-NLP/opus-mt-tc-big-en-tr\")\n"
      ],
      "metadata": {
        "id": "MQIn1DF8xfwZ"
      },
      "execution_count": null,
      "outputs": []
    },
    {
      "cell_type": "code",
      "source": [
        "results = translation_pipeline('It is amazing a catts')\n"
      ],
      "metadata": {
        "id": "g78Dgy4bxfzG"
      },
      "execution_count": 15,
      "outputs": []
    },
    {
      "cell_type": "code",
      "source": [
        "results"
      ],
      "metadata": {
        "colab": {
          "base_uri": "https://localhost:8080/"
        },
        "id": "gG_2y9m3528n",
        "outputId": "20b40fbe-8b70-480f-9f58-d5c82fd71756"
      },
      "execution_count": 16,
      "outputs": [
        {
          "output_type": "execute_result",
          "data": {
            "text/plain": [
              "[{'translation_text': 'Bu inanılmaz bir kedi.'}]"
            ]
          },
          "metadata": {},
          "execution_count": 16
        }
      ]
    },
    {
      "cell_type": "code",
      "source": [
        "results[0]['translation_text']\n"
      ],
      "metadata": {
        "colab": {
          "base_uri": "https://localhost:8080/",
          "height": 35
        },
        "id": "yI1lha06xf1-",
        "outputId": "61e4155e-5c1c-448e-89e1-c50dbb825723"
      },
      "execution_count": 17,
      "outputs": [
        {
          "output_type": "execute_result",
          "data": {
            "text/plain": [
              "'Bu inanılmaz bir kedi.'"
            ],
            "application/vnd.google.colaboratory.intrinsic+json": {
              "type": "string"
            }
          },
          "metadata": {},
          "execution_count": 17
        }
      ]
    },
    {
      "cell_type": "markdown",
      "source": [
        "3. Create Gradio Function and Interface"
      ],
      "metadata": {
        "id": "OLEhDr4028L2"
      }
    },
    {
      "cell_type": "code",
      "source": [
        "!pip install gradio==3.50"
      ],
      "metadata": {
        "id": "Z6c6VqQt0U1x"
      },
      "execution_count": null,
      "outputs": []
    },
    {
      "cell_type": "code",
      "source": [
        "import gradio as gr                   # UI library\n",
        "gr.__version__"
      ],
      "metadata": {
        "id": "tARl6o8h0U5P",
        "colab": {
          "base_uri": "https://localhost:8080/",
          "height": 35
        },
        "outputId": "cb6cdc96-b43f-4472-8f4e-2f90c171c1da"
      },
      "execution_count": 19,
      "outputs": [
        {
          "output_type": "execute_result",
          "data": {
            "text/plain": [
              "'3.50.0'"
            ],
            "application/vnd.google.colaboratory.intrinsic+json": {
              "type": "string"
            }
          },
          "metadata": {},
          "execution_count": 19
        }
      ]
    },
    {
      "cell_type": "code",
      "source": [
        "def translate_transformers(from_text):\n",
        "    results = translation_pipeline(from_text)\n",
        "    return results[0]['translation_text']"
      ],
      "metadata": {
        "id": "WOMGaYiV0U9b"
      },
      "execution_count": 20,
      "outputs": []
    },
    {
      "cell_type": "code",
      "source": [
        "interface = gr.Interface(fn=translate_transformers,\n",
        "                         inputs=gr.Textbox(lines=2, placeholder='Text to translate'),\n",
        "                        outputs='text')"
      ],
      "metadata": {
        "id": "K6_PoHMt0VBP"
      },
      "execution_count": 25,
      "outputs": []
    },
    {
      "cell_type": "code",
      "source": [
        "# gr.Interface(fn=translate_transformers,\n",
        "#              inputs=gr.inputs.Textbox(lines=2, placeholder='Text to translate'),outputs='text')"
      ],
      "metadata": {
        "id": "Zcpftaqm7DTV"
      },
      "execution_count": 22,
      "outputs": []
    },
    {
      "cell_type": "code",
      "source": [
        "interface.launch(share=True)\n"
      ],
      "metadata": {
        "id": "tX5CIZlr0VEi",
        "colab": {
          "base_uri": "https://localhost:8080/",
          "height": 591
        },
        "outputId": "6d199f29-fb0e-42aa-f6c2-5d6b42e03d61"
      },
      "execution_count": 26,
      "outputs": [
        {
          "output_type": "stream",
          "name": "stdout",
          "text": [
            "Colab notebook detected. To show errors in colab notebook, set debug=True in launch()\n",
            "Running on public URL: https://6042b2cbb9497059ca.gradio.live\n",
            "\n",
            "This share link expires in 72 hours. For free permanent hosting and GPU upgrades, run `gradio deploy` from Terminal to deploy to Spaces (https://huggingface.co/spaces)\n"
          ]
        },
        {
          "output_type": "display_data",
          "data": {
            "text/plain": [
              "<IPython.core.display.HTML object>"
            ],
            "text/html": [
              "<div><iframe src=\"https://6042b2cbb9497059ca.gradio.live\" width=\"100%\" height=\"500\" allow=\"autoplay; camera; microphone; clipboard-read; clipboard-write;\" frameborder=\"0\" allowfullscreen></iframe></div>"
            ]
          },
          "metadata": {}
        },
        {
          "output_type": "execute_result",
          "data": {
            "text/plain": []
          },
          "metadata": {},
          "execution_count": 26
        }
      ]
    }
  ]
}